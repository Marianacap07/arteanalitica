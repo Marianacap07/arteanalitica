{
 "cells": [
  {
   "cell_type": "markdown",
   "metadata": {},
   "source": [
    "<b>Ejercicios con Python</b>\n",
    "\n",
    "<ol>\n",
    "    <li>\n",
    "Escribir una función de Python que encuentre los números primos en los primeros N números naturales.\n",
    "        <ul>\n",
    "            <li>N es el argumento de la función.</li>\n",
    "            <li>Llamar la función desde el código principal.</li>\n",
    "        </ul>\n",
    "    </li>\n",
    "    <li>\n",
    "Escribir una función de Python que encuentre el producto cruz en vectores de 3 componentes.\n",
    "        <ul>\n",
    "            <li>La función recibe dos listas (vectores).</li>\n",
    "            <li>La función regresa un tercer vector (lista) con el resultado.</li>\n",
    "            <li>Llamar a la función desde el código principal.</li>\n",
    "        </ul>\n",
    "    </li>\n",
    "    <li>\n",
    "Re-escribir el problema 2, pero ahora los vectores son leídos desde un archivo de texto.\n",
    "    </li>\n",
    "</ol>"
   ]
  },
  {
   "cell_type": "code",
   "execution_count": 7,
   "metadata": {},
   "outputs": [],
   "source": [
    "import math\n",
    "def findPrimes(n):\n",
    "    primes = []\n",
    "    #ver el residuo. Usar % para ver si da cero el residuo \n",
    "    #criba de eratostenes\n",
    "   \n",
    "    for i in range (2, n+1):\n",
    "        isPrime =True\n",
    "        limit = int (math.sqrt(i))\n",
    "        for test in range(2,limit+1):\n",
    "            if i % test == 0:\n",
    "                isPrime = False\n",
    "                break\n",
    "        if isPrime:\n",
    "            primes.append(i)\n",
    "    return primes"
   ]
  },
  {
   "cell_type": "code",
   "execution_count": 12,
   "metadata": {},
   "outputs": [],
   "source": [
    "def crossProductA(a, b):\n",
    "    '''\n",
    "    x=0\n",
    "    y=1\n",
    "    z=2\n",
    "    '''\n",
    "    product = [a[1]*b[2]-a[2]*b[1], \n",
    "               a[2]*b[0]-a[0]*b[2], \n",
    "               a[0]*b[1]-a[1]*b[0]]\n",
    "    # 3D cross product?\n",
    "    return product"
   ]
  },
  {
   "cell_type": "code",
   "execution_count": 18,
   "metadata": {},
   "outputs": [],
   "source": [
    "def crossProduct():\n",
    "    # Read a, b from file: vectors.txt\n",
    "    file = open(\"vectors.txt\", \"r\")\n",
    "    linea1 = file.readline().strip()\n",
    "    linea2 = file.readline().strip()\n",
    "    vector1 =linea1.split(\",\")\n",
    "    vector2 =linea2.split(\",\")\n",
    "    for i in range(3):\n",
    "        vector1[i] = float(vector1[i])\n",
    "        vector2[i] = float(vector2[i])\n",
    "   # print(vector1)\n",
    "    #print(vector2)\n",
    "    product = crossProductA(vector1,vector2)\n",
    "    return product"
   ]
  },
  {
   "cell_type": "code",
   "execution_count": null,
   "metadata": {},
   "outputs": [],
   "source": [
    "primes100 =findPrimes (100)\n",
    "print (primes100)"
   ]
  },
  {
   "cell_type": "code",
   "execution_count": 14,
   "metadata": {
    "scrolled": true
   },
   "outputs": [
    {
     "name": "stdout",
     "output_type": "stream",
     "text": [
      "[-3, 6, -3]\n"
     ]
    }
   ],
   "source": [
    "vectorA =[1, 2, 3]\n",
    "vectorB =[4, 5, 6]\n",
    "producto = crossProductA(vectorA, vectorB)\n",
    "print (producto)"
   ]
  },
  {
   "cell_type": "code",
   "execution_count": 19,
   "metadata": {},
   "outputs": [
    {
     "data": {
      "text/plain": [
       "[-342.20075929999996, -97.56381480000002, -438.88081]"
      ]
     },
     "execution_count": 19,
     "metadata": {},
     "output_type": "execute_result"
    }
   ],
   "source": [
    "crossProduct()"
   ]
  },
  {
   "cell_type": "code",
   "execution_count": 66,
   "metadata": {},
   "outputs": [],
   "source": [
    "def makeMatrix():\n",
    "    matrix = []\n",
    "    file = open(\"avocado.csv\", \"r\")\n",
    "    count = 0\n",
    "    for line in file:\n",
    "        if count == 0:\n",
    "            print(line)\n",
    "        else:\n",
    "            line = line.strip()\n",
    "            row = line.split(\",\")\n",
    "            matrix.append(row)\n",
    "        count += 1\n",
    "    print(\"Read \", count, \"lines.\\n\")\n",
    "    file.close()\n",
    "    return matrix\n"
   ]
  },
  {
   "cell_type": "code",
   "execution_count": 65,
   "metadata": {},
   "outputs": [
    {
     "data": {
      "text/plain": [
       "'import pandas as pan\\ndata =pan.read_csv(\"avocado.csv\")\\ndata.head(15) #tail(ultimos) o describe o colums\\n#data[\\'date o cualquier columna\\']\\n#data[\\'Total Bags\\']'"
      ]
     },
     "execution_count": 65,
     "metadata": {},
     "output_type": "execute_result"
    }
   ],
   "source": [
    "import pandas as pan\n",
    "data =pan.read_csv(\"avocado.csv\")\n",
    "data.head(15) #tail(ultimos) o describe o colums\n",
    "#data['date o cualquier columna']\n",
    "#data['Total Bags']\n"
   ]
  },
  {
   "cell_type": "code",
   "execution_count": 51,
   "metadata": {},
   "outputs": [
    {
     "data": {
      "text/plain": [
       "count    18249.000000\n",
       "mean         1.405978\n",
       "std          0.402677\n",
       "min          0.440000\n",
       "25%          1.100000\n",
       "50%          1.370000\n",
       "75%          1.660000\n",
       "max          3.250000\n",
       "Name: AveragePrice, dtype: float64"
      ]
     },
     "execution_count": 51,
     "metadata": {},
     "output_type": "execute_result"
    }
   ],
   "source": [
    "data['AveragePrice'].describe()"
   ]
  },
  {
   "cell_type": "code",
   "execution_count": 35,
   "metadata": {},
   "outputs": [
    {
     "data": {
      "text/plain": [
       "Unnamed: 0          24.232232\n",
       "AveragePrice         1.405978\n",
       "Total Volume    850644.013009\n",
       "4046            293008.424531\n",
       "4225            295154.568356\n",
       "4770             22839.735993\n",
       "Total Bags      239639.202060\n",
       "Small Bags      182194.686696\n",
       "Large Bags       54338.088145\n",
       "XLarge Bags       3106.426507\n",
       "year              2016.147899\n",
       "dtype: float64"
      ]
     },
     "execution_count": 35,
     "metadata": {},
     "output_type": "execute_result"
    }
   ],
   "source": [
    "data.mean()"
   ]
  },
  {
   "cell_type": "code",
   "execution_count": 59,
   "metadata": {},
   "outputs": [
    {
     "data": {
      "image/png": "[encoded data removed]",
      "text/plain": [
       "<Figure size 720x504 with 1 Axes>"
      ]
     },
     "metadata": {
      "needs_background": "light"
     },
     "output_type": "display_data"
    }
   ],
   "source": [
    "import matplotlib.pyplot as plt \n",
    "\n",
    "col=data['4046']\n",
    "col2=data['4225']\n",
    "col3=data['4770']\n",
    "mydata =[col, col2,col3]\n",
    "fig = plt.figure(figsize =(10, 7)) \n",
    "ax=fig.add_axes([0,0,1,1])\n",
    "bp=ax.boxplot(mydata)\n",
    "# Creating plot \n",
    "plt.boxplot(col) \n",
    "plt.show()"
   ]
  },
  {
   "cell_type": "code",
   "execution_count": 61,
   "metadata": {},
   "outputs": [
    {
     "data": {
      "text/plain": [
       "(array([[1.7699e+04, 3.7700e+02, 4.0000e+00, 2.0000e+01, 4.6000e+01,\n",
       "         6.7000e+01, 2.6000e+01, 7.0000e+00, 1.0000e+00, 2.0000e+00],\n",
       "        [1.7888e+04, 1.8900e+02, 3.0000e+00, 2.1000e+01, 6.4000e+01,\n",
       "         5.6000e+01, 2.1000e+01, 3.0000e+00, 3.0000e+00, 1.0000e+00],\n",
       "        [1.8248e+04, 1.0000e+00, 0.0000e+00, 0.0000e+00, 0.0000e+00,\n",
       "         0.0000e+00, 0.0000e+00, 0.0000e+00, 0.0000e+00, 0.0000e+00]]),\n",
       " array([       0.   ,  2274361.617,  4548723.234,  6823084.851,\n",
       "         9097446.468, 11371808.085, 13646169.702, 15920531.319,\n",
       "        18194892.936, 20469254.553, 22743616.17 ]),\n",
       " <a list of 3 BarContainer objects>)"
      ]
     },
     "execution_count": 61,
     "metadata": {},
     "output_type": "execute_result"
    },
    {
     "data": {
      "image/png": "[encoded data removed]",
      "text/plain": [
       "<Figure size 432x288 with 1 Axes>"
      ]
     },
     "metadata": {
      "needs_background": "light"
     },
     "output_type": "display_data"
    }
   ],
   "source": [
    "plt.hist(mydata) "
   ]
  },
  {
   "cell_type": "code",
   "execution_count": 62,
   "metadata": {},
   "outputs": [
    {
     "data": {
      "text/plain": [
       "(array([[1.6988e+04, 4.2300e+02, 2.8800e+02, 2.3400e+02, 1.1700e+02,\n",
       "         2.6000e+01, 4.0000e+00, 0.0000e+00, 0.0000e+00, 3.0000e+00,\n",
       "         4.0000e+00, 1.3000e+01, 1.4000e+01, 1.3000e+01, 1.9000e+01,\n",
       "         2.1000e+01, 2.7000e+01, 1.9000e+01, 1.6000e+01, 7.0000e+00,\n",
       "         3.0000e+00, 5.0000e+00, 1.0000e+00, 1.0000e+00, 1.0000e+00,\n",
       "         0.0000e+00, 0.0000e+00, 0.0000e+00, 1.0000e+00, 1.0000e+00],\n",
       "        [1.6881e+04, 6.0500e+02, 4.0200e+02, 1.3800e+02, 4.0000e+01,\n",
       "         1.1000e+01, 2.0000e+00, 1.0000e+00, 0.0000e+00, 4.0000e+00,\n",
       "         7.0000e+00, 1.0000e+01, 1.3000e+01, 2.0000e+01, 3.1000e+01,\n",
       "         2.2000e+01, 1.7000e+01, 1.7000e+01, 1.8000e+01, 2.0000e+00,\n",
       "         1.0000e+00, 2.0000e+00, 0.0000e+00, 1.0000e+00, 0.0000e+00,\n",
       "         1.0000e+00, 2.0000e+00, 1.0000e+00, 0.0000e+00, 0.0000e+00],\n",
       "        [1.8153e+04, 7.2000e+01, 2.3000e+01, 1.0000e+00, 0.0000e+00,\n",
       "         0.0000e+00, 0.0000e+00, 0.0000e+00, 0.0000e+00, 0.0000e+00,\n",
       "         0.0000e+00, 0.0000e+00, 0.0000e+00, 0.0000e+00, 0.0000e+00,\n",
       "         0.0000e+00, 0.0000e+00, 0.0000e+00, 0.0000e+00, 0.0000e+00,\n",
       "         0.0000e+00, 0.0000e+00, 0.0000e+00, 0.0000e+00, 0.0000e+00,\n",
       "         0.0000e+00, 0.0000e+00, 0.0000e+00, 0.0000e+00, 0.0000e+00]]),\n",
       " array([       0.   ,   758120.539,  1516241.078,  2274361.617,\n",
       "         3032482.156,  3790602.695,  4548723.234,  5306843.773,\n",
       "         6064964.312,  6823084.851,  7581205.39 ,  8339325.929,\n",
       "         9097446.468,  9855567.007, 10613687.546, 11371808.085,\n",
       "        12129928.624, 12888049.163, 13646169.702, 14404290.241,\n",
       "        15162410.78 , 15920531.319, 16678651.858, 17436772.397,\n",
       "        18194892.936, 18953013.475, 19711134.014, 20469254.553,\n",
       "        21227375.092, 21985495.631, 22743616.17 ]),\n",
       " <a list of 3 BarContainer objects>)"
      ]
     },
     "execution_count": 62,
     "metadata": {},
     "output_type": "execute_result"
    },
    {
     "data": {
      "image/png": "[encoded data removed]",
      "text/plain": [
       "<Figure size 432x288 with 1 Axes>"
      ]
     },
     "metadata": {
      "needs_background": "light"
     },
     "output_type": "display_data"
    }
   ],
   "source": [
    "fig, ax = plt.subplots()  # initiate an empty figure and axis matplotlib object\n",
    "ax.hist(mydata, 30)"
   ]
  },
  {
   "cell_type": "code",
   "execution_count": null,
   "metadata": {},
   "outputs": [],
   "source": []
  }
 ],
 "metadata": {
  "kernelspec": {
   "display_name": "Python 3",
   "language": "python",
   "name": "python3"
  },
  "language_info": {
   "codemirror_mode": {
    "name": "ipython",
    "version": 3
   },
   "file_extension": ".py",
   "mimetype": "text/x-python",
   "name": "python",
   "nbconvert_exporter": "python",
   "pygments_lexer": "ipython3",
   "version": "3.8.5"
  }
 },
 "nbformat": 4,
 "nbformat_minor": 4
}
